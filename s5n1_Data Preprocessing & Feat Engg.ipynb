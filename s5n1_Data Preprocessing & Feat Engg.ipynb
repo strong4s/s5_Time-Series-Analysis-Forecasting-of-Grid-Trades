{
 "cells": [
  {
   "cell_type": "markdown",
   "metadata": {},
   "source": [
    "### Importing Libraries"
   ]
  },
  {
   "cell_type": "code",
   "execution_count": 1,
   "metadata": {},
   "outputs": [],
   "source": [
    "import numpy as np\n",
    "import pandas as pd\n",
    "import joblib\n",
    "import glob\n",
    "\n",
    "from tkinter import *\n",
    "import dtale as dt\n",
    "\n",
    "import plotly.graph_objects as go\n",
    "%matplotlib inline\n",
    "import matplotlib.pyplot as plt\n",
    "import seaborn as sns\n",
    "\n",
    "from sklearn.preprocessing import MinMaxScaler\n",
    "from datetime import datetime, timedelta\n",
    "\n",
    "from sklearn import metrics\n",
    "from sklearn.model_selection import train_test_split\n",
    "\n",
    "pd.set_option('display.float_format', '{:,.6}'.format)\n",
    "# pd.set_option('max_columns', 100)"
   ]
  },
  {
   "cell_type": "markdown",
   "metadata": {},
   "source": [
    "### Preparing the Dataset"
   ]
  },
  {
   "cell_type": "code",
   "execution_count": 2,
   "metadata": {},
   "outputs": [
    {
     "data": {
      "text/html": [
       "<div>\n",
       "<style scoped>\n",
       "    .dataframe tbody tr th:only-of-type {\n",
       "        vertical-align: middle;\n",
       "    }\n",
       "\n",
       "    .dataframe tbody tr th {\n",
       "        vertical-align: top;\n",
       "    }\n",
       "\n",
       "    .dataframe thead th {\n",
       "        text-align: right;\n",
       "    }\n",
       "</style>\n",
       "<table border=\"1\" class=\"dataframe\">\n",
       "  <thead>\n",
       "    <tr style=\"text-align: right;\">\n",
       "      <th></th>\n",
       "      <th>Trade ID</th>\n",
       "      <th>Start Time</th>\n",
       "      <th>End Time</th>\n",
       "      <th>Volume</th>\n",
       "      <th>Price</th>\n",
       "      <th>Cost</th>\n",
       "      <th>SO Flag</th>\n",
       "    </tr>\n",
       "  </thead>\n",
       "  <tbody>\n",
       "    <tr>\n",
       "      <th>0</th>\n",
       "      <td>ES00109856</td>\n",
       "      <td>2021-04-01T01:00:00Z</td>\n",
       "      <td>2021-04-01T02:00:00Z</td>\n",
       "      <td>-210.0</td>\n",
       "      <td>41.0</td>\n",
       "      <td>-8,610.0</td>\n",
       "      <td>T</td>\n",
       "    </tr>\n",
       "    <tr>\n",
       "      <th>1</th>\n",
       "      <td>ES00109857</td>\n",
       "      <td>2021-04-01T01:00:00Z</td>\n",
       "      <td>2021-04-01T02:00:00Z</td>\n",
       "      <td>-90.0</td>\n",
       "      <td>39.28</td>\n",
       "      <td>-3,535.2</td>\n",
       "      <td>T</td>\n",
       "    </tr>\n",
       "    <tr>\n",
       "      <th>2</th>\n",
       "      <td>ES00109858</td>\n",
       "      <td>2021-04-01T02:00:00Z</td>\n",
       "      <td>2021-04-01T03:00:00Z</td>\n",
       "      <td>-150.0</td>\n",
       "      <td>37.59</td>\n",
       "      <td>-5,638.5</td>\n",
       "      <td>T</td>\n",
       "    </tr>\n",
       "    <tr>\n",
       "      <th>3</th>\n",
       "      <td>ES00109859</td>\n",
       "      <td>2021-04-01T02:00:00Z</td>\n",
       "      <td>2021-04-01T03:00:00Z</td>\n",
       "      <td>-100.0</td>\n",
       "      <td>37.53</td>\n",
       "      <td>-3,753.0</td>\n",
       "      <td>T</td>\n",
       "    </tr>\n",
       "    <tr>\n",
       "      <th>4</th>\n",
       "      <td>ES00109860</td>\n",
       "      <td>2021-04-01T03:00:00Z</td>\n",
       "      <td>2021-04-01T04:00:00Z</td>\n",
       "      <td>-10.0</td>\n",
       "      <td>39.76</td>\n",
       "      <td>-397.6</td>\n",
       "      <td>T</td>\n",
       "    </tr>\n",
       "    <tr>\n",
       "      <th>5</th>\n",
       "      <td>ES00109861</td>\n",
       "      <td>2021-04-01T04:00:00Z</td>\n",
       "      <td>2021-04-01T05:00:00Z</td>\n",
       "      <td>-100.0</td>\n",
       "      <td>51.0</td>\n",
       "      <td>-5,100.0</td>\n",
       "      <td>F</td>\n",
       "    </tr>\n",
       "  </tbody>\n",
       "</table>\n",
       "</div>"
      ],
      "text/plain": [
       "     Trade ID            Start Time              End Time  Volume  Price  \\\n",
       "0  ES00109856  2021-04-01T01:00:00Z  2021-04-01T02:00:00Z  -210.0   41.0   \n",
       "1  ES00109857  2021-04-01T01:00:00Z  2021-04-01T02:00:00Z   -90.0  39.28   \n",
       "2  ES00109858  2021-04-01T02:00:00Z  2021-04-01T03:00:00Z  -150.0  37.59   \n",
       "3  ES00109859  2021-04-01T02:00:00Z  2021-04-01T03:00:00Z  -100.0  37.53   \n",
       "4  ES00109860  2021-04-01T03:00:00Z  2021-04-01T04:00:00Z   -10.0  39.76   \n",
       "5  ES00109861  2021-04-01T04:00:00Z  2021-04-01T05:00:00Z  -100.0   51.0   \n",
       "\n",
       "      Cost SO Flag  \n",
       "0 -8,610.0       T  \n",
       "1 -3,535.2       T  \n",
       "2 -5,638.5       T  \n",
       "3 -3,753.0       T  \n",
       "4   -397.6       T  \n",
       "5 -5,100.0       F  "
      ]
     },
     "execution_count": 2,
     "metadata": {},
     "output_type": "execute_result"
    }
   ],
   "source": [
    "PATH = \"./data/Historic Grid Trade Master Agreement (GTMA)/gtma_trades_20*.csv\"\n",
    "df1 = pd.concat([pd.read_csv(g) for g in glob.glob(PATH)])\n",
    "#? df1 = Orig, No formatting / feature eng'g\n",
    "\n",
    "df1.head(6)\n",
    "# df1.shape\n",
    "# df1.info()\n"
   ]
  },
  {
   "cell_type": "markdown",
   "metadata": {},
   "source": [
    "$\\qquad$ Revisiting this notebook? We may use joblib easily load the edited dataframes."
   ]
  },
  {
   "cell_type": "code",
   "execution_count": 5,
   "metadata": {},
   "outputs": [
    {
     "data": {
      "text/plain": [
       "['./data/GTMA Trades_df']"
      ]
     },
     "execution_count": 5,
     "metadata": {},
     "output_type": "execute_result"
    }
   ],
   "source": [
    "\n",
    "#* Dumping the 'base' / default dataframe. \n",
    "joblib.dump(df1,\"./data/GTMA Trades_df\")"
   ]
  },
  {
   "cell_type": "code",
   "execution_count": 2,
   "metadata": {},
   "outputs": [],
   "source": [
    "\n",
    "df1 = joblib.load(\"./data/GTMA Trades_df\")\n",
    "# df1A = joblib.load(\"./data/GTMA Trades_df1A\")\n",
    "\n",
    "# df1.shape\n",
    "# df1A.head(5)"
   ]
  },
  {
   "cell_type": "markdown",
   "metadata": {},
   "source": [
    "### (Basic) Inspection, Exploration of DFs"
   ]
  },
  {
   "cell_type": "code",
   "execution_count": 12,
   "metadata": {},
   "outputs": [
    {
     "data": {
      "text/plain": [
       "Index(['Trade ID', 'Start Time', 'End Time', 'Volume', 'Price', 'Cost',\n",
       "       'SO Flag'],\n",
       "      dtype='object')"
      ]
     },
     "execution_count": 12,
     "metadata": {},
     "output_type": "execute_result"
    }
   ],
   "source": [
    "df1.columns"
   ]
  },
  {
   "cell_type": "code",
   "execution_count": 13,
   "metadata": {},
   "outputs": [
    {
     "data": {
      "text/plain": [
       "114232"
      ]
     },
     "execution_count": 13,
     "metadata": {},
     "output_type": "execute_result"
    }
   ],
   "source": [
    "df1[\"Trade ID\"].nunique()"
   ]
  },
  {
   "cell_type": "code",
   "execution_count": 14,
   "metadata": {},
   "outputs": [
    {
     "data": {
      "text/plain": [
       "0"
      ]
     },
     "execution_count": 14,
     "metadata": {},
     "output_type": "execute_result"
    }
   ],
   "source": [
    "df1[\"Trade ID\"].isnull().sum()"
   ]
  },
  {
   "cell_type": "code",
   "execution_count": 15,
   "metadata": {},
   "outputs": [
    {
     "data": {
      "text/plain": [
       "20"
      ]
     },
     "execution_count": 15,
     "metadata": {},
     "output_type": "execute_result"
    }
   ],
   "source": [
    "df1[\"Trade ID\"].duplicated(keep=False).sum()"
   ]
  },
  {
   "cell_type": "code",
   "execution_count": 16,
   "metadata": {},
   "outputs": [
    {
     "data": {
      "text/plain": [
       "10"
      ]
     },
     "execution_count": 16,
     "metadata": {},
     "output_type": "execute_result"
    }
   ],
   "source": [
    "df1[\"Trade ID\"].duplicated().sum()"
   ]
  },
  {
   "cell_type": "code",
   "execution_count": 19,
   "metadata": {},
   "outputs": [
    {
     "data": {
      "text/html": [
       "<div>\n",
       "<style scoped>\n",
       "    .dataframe tbody tr th:only-of-type {\n",
       "        vertical-align: middle;\n",
       "    }\n",
       "\n",
       "    .dataframe tbody tr th {\n",
       "        vertical-align: top;\n",
       "    }\n",
       "\n",
       "    .dataframe thead th {\n",
       "        text-align: right;\n",
       "    }\n",
       "</style>\n",
       "<table border=\"1\" class=\"dataframe\">\n",
       "  <thead>\n",
       "    <tr style=\"text-align: right;\">\n",
       "      <th></th>\n",
       "      <th>Trade ID</th>\n",
       "      <th>Cost</th>\n",
       "    </tr>\n",
       "  </thead>\n",
       "  <tbody>\n",
       "    <tr>\n",
       "      <th>10</th>\n",
       "      <td>ES00109866</td>\n",
       "      <td>1.1421e+05</td>\n",
       "    </tr>\n",
       "    <tr>\n",
       "      <th>274</th>\n",
       "      <td>ES00110130</td>\n",
       "      <td>2.1375e+05</td>\n",
       "    </tr>\n",
       "    <tr>\n",
       "      <th>275</th>\n",
       "      <td>ES00110131</td>\n",
       "      <td>1.16336e+05</td>\n",
       "    </tr>\n",
       "    <tr>\n",
       "      <th>276</th>\n",
       "      <td>ES00110132</td>\n",
       "      <td>1.07008e+05</td>\n",
       "    </tr>\n",
       "    <tr>\n",
       "      <th>710</th>\n",
       "      <td>ES00110568</td>\n",
       "      <td>1.25136e+05</td>\n",
       "    </tr>\n",
       "    <tr>\n",
       "      <th>...</th>\n",
       "      <td>...</td>\n",
       "      <td>...</td>\n",
       "    </tr>\n",
       "    <tr>\n",
       "      <th>2931</th>\n",
       "      <td>ES00007745</td>\n",
       "      <td>99,880.0</td>\n",
       "    </tr>\n",
       "    <tr>\n",
       "      <th>2932</th>\n",
       "      <td>ES00007746</td>\n",
       "      <td>99,820.0</td>\n",
       "    </tr>\n",
       "    <tr>\n",
       "      <th>2933</th>\n",
       "      <td>ES00007747</td>\n",
       "      <td>3,600.0</td>\n",
       "    </tr>\n",
       "    <tr>\n",
       "      <th>2934</th>\n",
       "      <td>ES00007748</td>\n",
       "      <td>16,000.0</td>\n",
       "    </tr>\n",
       "    <tr>\n",
       "      <th>2936</th>\n",
       "      <td>ES00007750</td>\n",
       "      <td>2.484e+05</td>\n",
       "    </tr>\n",
       "  </tbody>\n",
       "</table>\n",
       "<p>25212 rows × 2 columns</p>\n",
       "</div>"
      ],
      "text/plain": [
       "        Trade ID        Cost\n",
       "10    ES00109866  1.1421e+05\n",
       "274   ES00110130  2.1375e+05\n",
       "275   ES00110131 1.16336e+05\n",
       "276   ES00110132 1.07008e+05\n",
       "710   ES00110568 1.25136e+05\n",
       "...          ...         ...\n",
       "2931  ES00007745    99,880.0\n",
       "2932  ES00007746    99,820.0\n",
       "2933  ES00007747     3,600.0\n",
       "2934  ES00007748    16,000.0\n",
       "2936  ES00007750   2.484e+05\n",
       "\n",
       "[25212 rows x 2 columns]"
      ]
     },
     "execution_count": 19,
     "metadata": {},
     "output_type": "execute_result"
    }
   ],
   "source": [
    "\n",
    "#? Practice of Logic filtering for the rows. And desired Columns only.\n",
    "df1[(df2[\"Price\"] > 32.51) & (30.69 <= df2[\"Cost\"] )][[\"Trade ID\",\"Cost\"]]"
   ]
  },
  {
   "cell_type": "markdown",
   "metadata": {},
   "source": [
    "### GUI-assisted DF Inspection & Exploration"
   ]
  },
  {
   "cell_type": "code",
   "execution_count": null,
   "metadata": {},
   "outputs": [],
   "source": [
    "\n",
    "#* import dtale as dt\n",
    "\n",
    "# df1_dt = dt.show(df1, drop_index=True, open_browser=True)\n",
    "dt_df1 = dt.show(df1, drop_index=True)\n",
    "dt_df1\n",
    "\n",
    "# df1A_dt = dt.show(df1A)\n",
    "# df1A_dt"
   ]
  },
  {
   "cell_type": "markdown",
   "metadata": {},
   "source": [
    "### Feature Engineering"
   ]
  },
  {
   "cell_type": "markdown",
   "metadata": {},
   "source": [
    "$\\qquad$ Dropping duplicates, creating new features based on the trades' starting & ending time."
   ]
  },
  {
   "cell_type": "code",
   "execution_count": 31,
   "metadata": {},
   "outputs": [
    {
     "data": {
      "text/html": [
       "<div>\n",
       "<style scoped>\n",
       "    .dataframe tbody tr th:only-of-type {\n",
       "        vertical-align: middle;\n",
       "    }\n",
       "\n",
       "    .dataframe tbody tr th {\n",
       "        vertical-align: top;\n",
       "    }\n",
       "\n",
       "    .dataframe thead th {\n",
       "        text-align: right;\n",
       "    }\n",
       "</style>\n",
       "<table border=\"1\" class=\"dataframe\">\n",
       "  <thead>\n",
       "    <tr style=\"text-align: right;\">\n",
       "      <th></th>\n",
       "      <th>Volume</th>\n",
       "      <th>Price</th>\n",
       "      <th>Cost</th>\n",
       "      <th>SO Flag</th>\n",
       "      <th>Start Time_D&amp;T</th>\n",
       "      <th>End Time_D&amp;T</th>\n",
       "      <th>Trade Hours Duration</th>\n",
       "      <th>Start Hour</th>\n",
       "    </tr>\n",
       "  </thead>\n",
       "  <tbody>\n",
       "    <tr>\n",
       "      <th>2787</th>\n",
       "      <td>1,533.0</td>\n",
       "      <td>70.0</td>\n",
       "      <td>1.0731e+05</td>\n",
       "      <td>T</td>\n",
       "      <td>2015-12-31 23:00:00</td>\n",
       "      <td>2016-01-01 06:00:00</td>\n",
       "      <td>7</td>\n",
       "      <td>23</td>\n",
       "    </tr>\n",
       "    <tr>\n",
       "      <th>1471</th>\n",
       "      <td>1,610.0</td>\n",
       "      <td>63.5</td>\n",
       "      <td>1.02235e+05</td>\n",
       "      <td>T</td>\n",
       "      <td>2015-12-31 23:00:00</td>\n",
       "      <td>2016-01-01 06:00:00</td>\n",
       "      <td>7</td>\n",
       "      <td>23</td>\n",
       "    </tr>\n",
       "    <tr>\n",
       "      <th>2064</th>\n",
       "      <td>1,715.0</td>\n",
       "      <td>72.2</td>\n",
       "      <td>1.23823e+05</td>\n",
       "      <td>T</td>\n",
       "      <td>2015-12-31 23:00:00</td>\n",
       "      <td>2016-01-01 06:00:00</td>\n",
       "      <td>7</td>\n",
       "      <td>23</td>\n",
       "    </tr>\n",
       "    <tr>\n",
       "      <th>2080</th>\n",
       "      <td>-2,400.0</td>\n",
       "      <td>13.63</td>\n",
       "      <td>-32,712.0</td>\n",
       "      <td>T</td>\n",
       "      <td>2015-12-31 23:00:00</td>\n",
       "      <td>2016-01-01 09:00:00</td>\n",
       "      <td>10</td>\n",
       "      <td>23</td>\n",
       "    </tr>\n",
       "  </tbody>\n",
       "</table>\n",
       "</div>"
      ],
      "text/plain": [
       "       Volume  Price        Cost SO Flag      Start Time_D&T  \\\n",
       "2787  1,533.0   70.0  1.0731e+05       T 2015-12-31 23:00:00   \n",
       "1471  1,610.0   63.5 1.02235e+05       T 2015-12-31 23:00:00   \n",
       "2064  1,715.0   72.2 1.23823e+05       T 2015-12-31 23:00:00   \n",
       "2080 -2,400.0  13.63   -32,712.0       T 2015-12-31 23:00:00   \n",
       "\n",
       "            End Time_D&T  Trade Hours Duration  Start Hour  \n",
       "2787 2016-01-01 06:00:00                     7          23  \n",
       "1471 2016-01-01 06:00:00                     7          23  \n",
       "2064 2016-01-01 06:00:00                     7          23  \n",
       "2080 2016-01-01 09:00:00                    10          23  "
      ]
     },
     "execution_count": 31,
     "metadata": {},
     "output_type": "execute_result"
    }
   ],
   "source": [
    "df1.fillna('0', inplace=True)\n",
    "df1 = df1.query(\"`End Time` >= '2016'\")\n",
    "df1 = df1.sort_values(['Start Time'], ascending=[True])\n",
    "\n",
    "df1.drop_duplicates(subset='Trade ID',inplace=True)\n",
    "\n",
    "\n",
    "df1[\"Start Time_D&T\"] = pd.to_datetime(pd.to_datetime(df1[\"Start Time\"]).dt.strftime(\"%Y-%m-%d-%H:%M:%S\"))\n",
    "df1[\"End Time_D&T\"] = pd.to_datetime(pd.to_datetime(df1[\"End Time\"]).dt.strftime(\"%Y-%m-%d-%H:%M:%S\"))\n",
    "df1[\"Trade Hours Duration\"] = pd.to_timedelta((df1.loc[:,\"End Time_D&T\"] - df1.loc[:,\"Start Time_D&T\"]),unit='h')\n",
    "\n",
    "df1[\"Start Hour\"] = pd.to_numeric((df1[\"Start Time_D&T\"]).dt.strftime(\"%H\"))\n",
    "\n",
    "#? temp_durn = Temporary container for Trade Hours Duration\n",
    "temp_durn = []\n",
    "for i in df1[\"Trade Hours Duration\"]:\n",
    "    temp_durn.append((i.seconds)//3600)\n",
    "\n",
    "df1.loc[:,\"Trade Hours Duration\"] = temp_durn\n",
    "\n",
    "\n",
    "df2 = df1\n",
    "drop_cols = [\"Trade ID\",\"Start Time\",\"End Time\"]\n",
    "df2.drop(columns=drop_cols, inplace=True)\n",
    "df2.head(4)\n",
    "# df2.info()\n",
    "\n",
    "#? df2 == w/ Feat. eng'g.\n"
   ]
  },
  {
   "cell_type": "code",
   "execution_count": 32,
   "metadata": {},
   "outputs": [
    {
     "data": {
      "text/plain": [
       "['./data/GTMA Trades_df2']"
      ]
     },
     "execution_count": 32,
     "metadata": {},
     "output_type": "execute_result"
    }
   ],
   "source": [
    "joblib.dump(df2,\"./data/GTMA Trades_df2\")"
   ]
  },
  {
   "cell_type": "code",
   "execution_count": 2,
   "metadata": {},
   "outputs": [],
   "source": [
    "df2 = joblib.load(\"./data/GTMA Trades_df2\")"
   ]
  },
  {
   "cell_type": "code",
   "execution_count": null,
   "metadata": {},
   "outputs": [],
   "source": [
    "dt_df2 = dt.show(df2, drop_index=True)\n",
    "dt_df2"
   ]
  },
  {
   "cell_type": "markdown",
   "metadata": {},
   "source": [
    "### \"Manual\" EDA -- By Filters"
   ]
  },
  {
   "cell_type": "markdown",
   "metadata": {},
   "source": [
    "> Energy Trade Cost Paid By UK ESO"
   ]
  },
  {
   "cell_type": "code",
   "execution_count": 15,
   "metadata": {},
   "outputs": [
    {
     "data": {
      "text/plain": [
       "171615158.875"
      ]
     },
     "execution_count": 15,
     "metadata": {},
     "output_type": "execute_result"
    }
   ],
   "source": [
    "a_Et_By = df2[(df2[\"SO Flag\"]==\"F\") & (df2[\"Cost\"]> 0)]\n",
    "a_Et_By[\"Cost\"].sum()"
   ]
  },
  {
   "cell_type": "markdown",
   "metadata": {},
   "source": [
    "> System Trade Cost Paid By UK ESO"
   ]
  },
  {
   "cell_type": "code",
   "execution_count": 16,
   "metadata": {},
   "outputs": [
    {
     "data": {
      "text/plain": [
       "708574911.271"
      ]
     },
     "execution_count": 16,
     "metadata": {},
     "output_type": "execute_result"
    }
   ],
   "source": [
    "b_St_By = df2[(df2[\"SO Flag\"]==\"T\") & (df2[\"Cost\"]> 0)]\n",
    "b_St_By[\"Cost\"].sum()"
   ]
  },
  {
   "cell_type": "markdown",
   "metadata": {},
   "source": [
    "> Energy Trade Cost Paid To UK ESO"
   ]
  },
  {
   "cell_type": "code",
   "execution_count": 17,
   "metadata": {},
   "outputs": [
    {
     "data": {
      "text/plain": [
       "50136446.879999995"
      ]
     },
     "execution_count": 17,
     "metadata": {},
     "output_type": "execute_result"
    }
   ],
   "source": [
    "c_Et_To = df2[(df2[\"SO Flag\"]==\"F\") & (df2[\"Cost\"] < 0)]\n",
    "abs(c_Et_To[\"Cost\"].sum())"
   ]
  },
  {
   "cell_type": "markdown",
   "metadata": {},
   "source": [
    "> System Trade Cost Paid To UK ESO"
   ]
  },
  {
   "cell_type": "code",
   "execution_count": 18,
   "metadata": {},
   "outputs": [
    {
     "data": {
      "text/plain": [
       "232090347.51635003"
      ]
     },
     "execution_count": 18,
     "metadata": {},
     "output_type": "execute_result"
    }
   ],
   "source": [
    "d_St_To = df2[(df2[\"SO Flag\"]==\"T\") & (df2[\"Cost\"] < 0)]\n",
    "abs(d_St_To[\"Cost\"].sum())"
   ]
  },
  {
   "cell_type": "code",
   "execution_count": 19,
   "metadata": {},
   "outputs": [],
   "source": [
    "dict_costs = {\n",
    "    \"Energy T. Cost Paid By UK ESO\" : a_Et_By[\"Cost\"].sum(),\n",
    "    \"System T. Cost Paid By UK ESO\" : b_St_By[\"Cost\"].sum(),\n",
    "    \"Energy T. Cost Paid To UK ESO\" : abs(c_Et_To[\"Cost\"].sum()),\n",
    "    \"System T. Cost Paid To UK ESO\" : abs(d_St_To[\"Cost\"].sum())\n",
    "        }"
   ]
  },
  {
   "cell_type": "code",
   "execution_count": 20,
   "metadata": {},
   "outputs": [],
   "source": [
    "def dictionary_val_sorter(d_in: dict):\n",
    "    ###?\n",
    "    #? Sorts by values, Returns the sorted keys. #?\n",
    "    ###?\n",
    "    sorted_dict = {}\n",
    "    sorted_keys = sorted(d_in, key=d_in.get,reverse=True)\n",
    "\n",
    "    for w in sorted_keys:\n",
    "        sorted_dict[w] = d_in[w]\n",
    "    return sorted_dict.keys()"
   ]
  },
  {
   "cell_type": "code",
   "execution_count": 21,
   "metadata": {},
   "outputs": [
    {
     "name": "stdout",
     "output_type": "stream",
     "text": [
      "System T. Cost Paid By UK ESO, 708574911.271\n",
      "System T. Cost Paid To UK ESO, 232090347.51635003\n",
      "Energy T. Cost Paid By UK ESO, 171615158.875\n",
      "Energy T. Cost Paid To UK ESO, 50136446.879999995\n"
     ]
    }
   ],
   "source": [
    "for i in dictionary_val_sorter(dict_costs):\n",
    "     print(f\"{i}, {dict_costs.get(i)}\")"
   ]
  },
  {
   "cell_type": "code",
   "execution_count": 54,
   "metadata": {},
   "outputs": [
    {
     "data": {
      "application/vnd.plotly.v1+json": {
       "config": {
        "plotlyServerURL": "https://plot.ly"
       },
       "data": [
        {
         "hoverinfo": "label+value",
         "labels": [
          "System T. Cost Paid By UK ESO",
          "System T. Cost Paid To UK ESO",
          "Energy T. Cost Paid By UK ESO",
          "Energy T. Cost Paid To UK ESO"
         ],
         "marker": {
          "colors": [
           "rgb(15, 133, 84)",
           "rgb(115, 175, 72)",
           "rgb(237, 173, 8)"
          ],
          "line": {
           "color": "#A9A9A9",
           "width": 2
          }
         },
         "textfont": {
          "size": 14
         },
         "textinfo": "percent",
         "type": "pie",
         "values": [
          708574911.271,
          232090347.51635003,
          171615158.875,
          50136446.879999995
         ]
        }
       ],
       "layout": {
        "autosize": false,
        "height": 450,
        "margin": {
         "b": 100,
         "l": 50,
         "pad": 4,
         "r": 50,
         "t": 100
        },
        "template": {
         "data": {
          "bar": [
           {
            "error_x": {
             "color": "#2a3f5f"
            },
            "error_y": {
             "color": "#2a3f5f"
            },
            "marker": {
             "line": {
              "color": "#E5ECF6",
              "width": 0.5
             },
             "pattern": {
              "fillmode": "overlay",
              "size": 10,
              "solidity": 0.2
             }
            },
            "type": "bar"
           }
          ],
          "barpolar": [
           {
            "marker": {
             "line": {
              "color": "#E5ECF6",
              "width": 0.5
             },
             "pattern": {
              "fillmode": "overlay",
              "size": 10,
              "solidity": 0.2
             }
            },
            "type": "barpolar"
           }
          ],
          "carpet": [
           {
            "aaxis": {
             "endlinecolor": "#2a3f5f",
             "gridcolor": "white",
             "linecolor": "white",
             "minorgridcolor": "white",
             "startlinecolor": "#2a3f5f"
            },
            "baxis": {
             "endlinecolor": "#2a3f5f",
             "gridcolor": "white",
             "linecolor": "white",
             "minorgridcolor": "white",
             "startlinecolor": "#2a3f5f"
            },
            "type": "carpet"
           }
          ],
          "choropleth": [
           {
            "colorbar": {
             "outlinewidth": 0,
             "ticks": ""
            },
            "type": "choropleth"
           }
          ],
          "contour": [
           {
            "colorbar": {
             "outlinewidth": 0,
             "ticks": ""
            },
            "colorscale": [
             [
              0,
              "#0d0887"
             ],
             [
              0.1111111111111111,
              "#46039f"
             ],
             [
              0.2222222222222222,
              "#7201a8"
             ],
             [
              0.3333333333333333,
              "#9c179e"
             ],
             [
              0.4444444444444444,
              "#bd3786"
             ],
             [
              0.5555555555555556,
              "#d8576b"
             ],
             [
              0.6666666666666666,
              "#ed7953"
             ],
             [
              0.7777777777777778,
              "#fb9f3a"
             ],
             [
              0.8888888888888888,
              "#fdca26"
             ],
             [
              1,
              "#f0f921"
             ]
            ],
            "type": "contour"
           }
          ],
          "contourcarpet": [
           {
            "colorbar": {
             "outlinewidth": 0,
             "ticks": ""
            },
            "type": "contourcarpet"
           }
          ],
          "heatmap": [
           {
            "colorbar": {
             "outlinewidth": 0,
             "ticks": ""
            },
            "colorscale": [
             [
              0,
              "#0d0887"
             ],
             [
              0.1111111111111111,
              "#46039f"
             ],
             [
              0.2222222222222222,
              "#7201a8"
             ],
             [
              0.3333333333333333,
              "#9c179e"
             ],
             [
              0.4444444444444444,
              "#bd3786"
             ],
             [
              0.5555555555555556,
              "#d8576b"
             ],
             [
              0.6666666666666666,
              "#ed7953"
             ],
             [
              0.7777777777777778,
              "#fb9f3a"
             ],
             [
              0.8888888888888888,
              "#fdca26"
             ],
             [
              1,
              "#f0f921"
             ]
            ],
            "type": "heatmap"
           }
          ],
          "heatmapgl": [
           {
            "colorbar": {
             "outlinewidth": 0,
             "ticks": ""
            },
            "colorscale": [
             [
              0,
              "#0d0887"
             ],
             [
              0.1111111111111111,
              "#46039f"
             ],
             [
              0.2222222222222222,
              "#7201a8"
             ],
             [
              0.3333333333333333,
              "#9c179e"
             ],
             [
              0.4444444444444444,
              "#bd3786"
             ],
             [
              0.5555555555555556,
              "#d8576b"
             ],
             [
              0.6666666666666666,
              "#ed7953"
             ],
             [
              0.7777777777777778,
              "#fb9f3a"
             ],
             [
              0.8888888888888888,
              "#fdca26"
             ],
             [
              1,
              "#f0f921"
             ]
            ],
            "type": "heatmapgl"
           }
          ],
          "histogram": [
           {
            "marker": {
             "pattern": {
              "fillmode": "overlay",
              "size": 10,
              "solidity": 0.2
             }
            },
            "type": "histogram"
           }
          ],
          "histogram2d": [
           {
            "colorbar": {
             "outlinewidth": 0,
             "ticks": ""
            },
            "colorscale": [
             [
              0,
              "#0d0887"
             ],
             [
              0.1111111111111111,
              "#46039f"
             ],
             [
              0.2222222222222222,
              "#7201a8"
             ],
             [
              0.3333333333333333,
              "#9c179e"
             ],
             [
              0.4444444444444444,
              "#bd3786"
             ],
             [
              0.5555555555555556,
              "#d8576b"
             ],
             [
              0.6666666666666666,
              "#ed7953"
             ],
             [
              0.7777777777777778,
              "#fb9f3a"
             ],
             [
              0.8888888888888888,
              "#fdca26"
             ],
             [
              1,
              "#f0f921"
             ]
            ],
            "type": "histogram2d"
           }
          ],
          "histogram2dcontour": [
           {
            "colorbar": {
             "outlinewidth": 0,
             "ticks": ""
            },
            "colorscale": [
             [
              0,
              "#0d0887"
             ],
             [
              0.1111111111111111,
              "#46039f"
             ],
             [
              0.2222222222222222,
              "#7201a8"
             ],
             [
              0.3333333333333333,
              "#9c179e"
             ],
             [
              0.4444444444444444,
              "#bd3786"
             ],
             [
              0.5555555555555556,
              "#d8576b"
             ],
             [
              0.6666666666666666,
              "#ed7953"
             ],
             [
              0.7777777777777778,
              "#fb9f3a"
             ],
             [
              0.8888888888888888,
              "#fdca26"
             ],
             [
              1,
              "#f0f921"
             ]
            ],
            "type": "histogram2dcontour"
           }
          ],
          "mesh3d": [
           {
            "colorbar": {
             "outlinewidth": 0,
             "ticks": ""
            },
            "type": "mesh3d"
           }
          ],
          "parcoords": [
           {
            "line": {
             "colorbar": {
              "outlinewidth": 0,
              "ticks": ""
             }
            },
            "type": "parcoords"
           }
          ],
          "pie": [
           {
            "automargin": true,
            "type": "pie"
           }
          ],
          "scatter": [
           {
            "fillpattern": {
             "fillmode": "overlay",
             "size": 10,
             "solidity": 0.2
            },
            "type": "scatter"
           }
          ],
          "scatter3d": [
           {
            "line": {
             "colorbar": {
              "outlinewidth": 0,
              "ticks": ""
             }
            },
            "marker": {
             "colorbar": {
              "outlinewidth": 0,
              "ticks": ""
             }
            },
            "type": "scatter3d"
           }
          ],
          "scattercarpet": [
           {
            "marker": {
             "colorbar": {
              "outlinewidth": 0,
              "ticks": ""
             }
            },
            "type": "scattercarpet"
           }
          ],
          "scattergeo": [
           {
            "marker": {
             "colorbar": {
              "outlinewidth": 0,
              "ticks": ""
             }
            },
            "type": "scattergeo"
           }
          ],
          "scattergl": [
           {
            "marker": {
             "colorbar": {
              "outlinewidth": 0,
              "ticks": ""
             }
            },
            "type": "scattergl"
           }
          ],
          "scattermapbox": [
           {
            "marker": {
             "colorbar": {
              "outlinewidth": 0,
              "ticks": ""
             }
            },
            "type": "scattermapbox"
           }
          ],
          "scatterpolar": [
           {
            "marker": {
             "colorbar": {
              "outlinewidth": 0,
              "ticks": ""
             }
            },
            "type": "scatterpolar"
           }
          ],
          "scatterpolargl": [
           {
            "marker": {
             "colorbar": {
              "outlinewidth": 0,
              "ticks": ""
             }
            },
            "type": "scatterpolargl"
           }
          ],
          "scatterternary": [
           {
            "marker": {
             "colorbar": {
              "outlinewidth": 0,
              "ticks": ""
             }
            },
            "type": "scatterternary"
           }
          ],
          "surface": [
           {
            "colorbar": {
             "outlinewidth": 0,
             "ticks": ""
            },
            "colorscale": [
             [
              0,
              "#0d0887"
             ],
             [
              0.1111111111111111,
              "#46039f"
             ],
             [
              0.2222222222222222,
              "#7201a8"
             ],
             [
              0.3333333333333333,
              "#9c179e"
             ],
             [
              0.4444444444444444,
              "#bd3786"
             ],
             [
              0.5555555555555556,
              "#d8576b"
             ],
             [
              0.6666666666666666,
              "#ed7953"
             ],
             [
              0.7777777777777778,
              "#fb9f3a"
             ],
             [
              0.8888888888888888,
              "#fdca26"
             ],
             [
              1,
              "#f0f921"
             ]
            ],
            "type": "surface"
           }
          ],
          "table": [
           {
            "cells": {
             "fill": {
              "color": "#EBF0F8"
             },
             "line": {
              "color": "white"
             }
            },
            "header": {
             "fill": {
              "color": "#C8D4E3"
             },
             "line": {
              "color": "white"
             }
            },
            "type": "table"
           }
          ]
         },
         "layout": {
          "annotationdefaults": {
           "arrowcolor": "#2a3f5f",
           "arrowhead": 0,
           "arrowwidth": 1
          },
          "autotypenumbers": "strict",
          "coloraxis": {
           "colorbar": {
            "outlinewidth": 0,
            "ticks": ""
           }
          },
          "colorscale": {
           "diverging": [
            [
             0,
             "#8e0152"
            ],
            [
             0.1,
             "#c51b7d"
            ],
            [
             0.2,
             "#de77ae"
            ],
            [
             0.3,
             "#f1b6da"
            ],
            [
             0.4,
             "#fde0ef"
            ],
            [
             0.5,
             "#f7f7f7"
            ],
            [
             0.6,
             "#e6f5d0"
            ],
            [
             0.7,
             "#b8e186"
            ],
            [
             0.8,
             "#7fbc41"
            ],
            [
             0.9,
             "#4d9221"
            ],
            [
             1,
             "#276419"
            ]
           ],
           "sequential": [
            [
             0,
             "#0d0887"
            ],
            [
             0.1111111111111111,
             "#46039f"
            ],
            [
             0.2222222222222222,
             "#7201a8"
            ],
            [
             0.3333333333333333,
             "#9c179e"
            ],
            [
             0.4444444444444444,
             "#bd3786"
            ],
            [
             0.5555555555555556,
             "#d8576b"
            ],
            [
             0.6666666666666666,
             "#ed7953"
            ],
            [
             0.7777777777777778,
             "#fb9f3a"
            ],
            [
             0.8888888888888888,
             "#fdca26"
            ],
            [
             1,
             "#f0f921"
            ]
           ],
           "sequentialminus": [
            [
             0,
             "#0d0887"
            ],
            [
             0.1111111111111111,
             "#46039f"
            ],
            [
             0.2222222222222222,
             "#7201a8"
            ],
            [
             0.3333333333333333,
             "#9c179e"
            ],
            [
             0.4444444444444444,
             "#bd3786"
            ],
            [
             0.5555555555555556,
             "#d8576b"
            ],
            [
             0.6666666666666666,
             "#ed7953"
            ],
            [
             0.7777777777777778,
             "#fb9f3a"
            ],
            [
             0.8888888888888888,
             "#fdca26"
            ],
            [
             1,
             "#f0f921"
            ]
           ]
          },
          "colorway": [
           "#636efa",
           "#EF553B",
           "#00cc96",
           "#ab63fa",
           "#FFA15A",
           "#19d3f3",
           "#FF6692",
           "#B6E880",
           "#FF97FF",
           "#FECB52"
          ],
          "font": {
           "color": "#2a3f5f"
          },
          "geo": {
           "bgcolor": "white",
           "lakecolor": "white",
           "landcolor": "#E5ECF6",
           "showlakes": true,
           "showland": true,
           "subunitcolor": "white"
          },
          "hoverlabel": {
           "align": "left"
          },
          "hovermode": "closest",
          "mapbox": {
           "style": "light"
          },
          "paper_bgcolor": "white",
          "plot_bgcolor": "#E5ECF6",
          "polar": {
           "angularaxis": {
            "gridcolor": "white",
            "linecolor": "white",
            "ticks": ""
           },
           "bgcolor": "#E5ECF6",
           "radialaxis": {
            "gridcolor": "white",
            "linecolor": "white",
            "ticks": ""
           }
          },
          "scene": {
           "xaxis": {
            "backgroundcolor": "#E5ECF6",
            "gridcolor": "white",
            "gridwidth": 2,
            "linecolor": "white",
            "showbackground": true,
            "ticks": "",
            "zerolinecolor": "white"
           },
           "yaxis": {
            "backgroundcolor": "#E5ECF6",
            "gridcolor": "white",
            "gridwidth": 2,
            "linecolor": "white",
            "showbackground": true,
            "ticks": "",
            "zerolinecolor": "white"
           },
           "zaxis": {
            "backgroundcolor": "#E5ECF6",
            "gridcolor": "white",
            "gridwidth": 2,
            "linecolor": "white",
            "showbackground": true,
            "ticks": "",
            "zerolinecolor": "white"
           }
          },
          "shapedefaults": {
           "line": {
            "color": "#2a3f5f"
           }
          },
          "ternary": {
           "aaxis": {
            "gridcolor": "white",
            "linecolor": "white",
            "ticks": ""
           },
           "baxis": {
            "gridcolor": "white",
            "linecolor": "white",
            "ticks": ""
           },
           "bgcolor": "#E5ECF6",
           "caxis": {
            "gridcolor": "white",
            "linecolor": "white",
            "ticks": ""
           }
          },
          "title": {
           "x": 0.05
          },
          "xaxis": {
           "automargin": true,
           "gridcolor": "white",
           "linecolor": "white",
           "ticks": "",
           "title": {
            "standoff": 15
           },
           "zerolinecolor": "white",
           "zerolinewidth": 2
          },
          "yaxis": {
           "automargin": true,
           "gridcolor": "white",
           "linecolor": "white",
           "ticks": "",
           "title": {
            "standoff": 15
           },
           "zerolinecolor": "white",
           "zerolinewidth": 2
          }
         }
        },
        "width": 500
       }
      }
     },
     "metadata": {},
     "output_type": "display_data"
    }
   ],
   "source": [
    "import plotly.graph_objects as go\n",
    "\n",
    "pie_labels = [i for i in dictionary_val_sorter(dict_costs)]\n",
    "pie_d = [dict_costs.get(i) for i in dictionary_val_sorter(dict_costs)]\n",
    "\n",
    "colors = px.colors.qualitative.Prism[3:6]\n",
    "\n",
    "fig = go.Figure(data=[go.Pie(labels=pie_labels, values=pie_d)])\n",
    "fig.update_traces(hoverinfo='label+value', textinfo='percent', textfont_size=14,\n",
    "                  marker=dict(colors=colors, line=dict(color='#A9A9A9', width=2)))\n",
    "fig.update_layout(\n",
    "    autosize=False,\n",
    "    width=500,\n",
    "    height=450,\n",
    "    margin=dict(\n",
    "        l=50,\n",
    "        r=50,\n",
    "        b=100,\n",
    "        t=100,\n",
    "        pad=4\n",
    "                )\n",
    "                )\n",
    "    # paper_bgcolor=\"LightSteelBlue\",\n",
    "\n",
    "fig.show()\n"
   ]
  },
  {
   "cell_type": "markdown",
   "metadata": {},
   "source": [
    "-------------------"
   ]
  },
  {
   "cell_type": "markdown",
   "metadata": {},
   "source": [
    "### EDA by Visualizations"
   ]
  },
  {
   "cell_type": "markdown",
   "metadata": {},
   "source": [
    "Guide questions.\n",
    "\n",
    "1. Around what times do the trades with high Volumes occur?\n",
    "2. Something with scatterplot?\n",
    "3. \n",
    "\n",
    "\n",
    "Now, let's return to dtale."
   ]
  },
  {
   "cell_type": "code",
   "execution_count": null,
   "metadata": {},
   "outputs": [],
   "source": [
    "dt_df2 = dt.show(df2, drop_index=True)\n",
    "dt_df2"
   ]
  },
  {
   "cell_type": "code",
   "execution_count": null,
   "metadata": {},
   "outputs": [],
   "source": [
    "-257.5  162.5\n",
    "\n",
    "df2_noouts"
   ]
  },
  {
   "cell_type": "code",
   "execution_count": null,
   "metadata": {},
   "outputs": [],
   "source": [
    "g = sns.relplot(x=\"Start Time_D\", y=\"Cost\", hue=\"Start Hour_Bins\" , data=df1A, kind=\"scatter\")\n",
    "g\n",
    "\n",
    "# g = sns.relplot(x=df1A[[\"Start Time_D\",\"\"]], y=\"Cost\", hue=\"Start Hour_Bins\", kind=\"scatter\")\n",
    "\n",
    "#? Size / dim | Cirlces\n",
    "#? Per bin visualization? Or via plotly?"
   ]
  },
  {
   "cell_type": "code",
   "execution_count": null,
   "metadata": {},
   "outputs": [],
   "source": [
    "\n",
    "#? Plotting Swarmplot, non-Time perspective | x = Cost, y = bins, hue = Flag\n",
    "# ax = sns.swarmplot(x=\"total_bill\", y=\"day\", data=tips)\n",
    "\n",
    "g_swarm_nontime = sns.swarmplot(x=\"Cost\", y=\"Start Hour_Bins\", hue=\"SO Flag\",data=df1A,dodge=True, orient=\"h\")\n",
    "g_swarm_nontime"
   ]
  },
  {
   "cell_type": "markdown",
   "metadata": {},
   "source": [
    "### Splitting the Dataset"
   ]
  },
  {
   "cell_type": "code",
   "execution_count": 4,
   "metadata": {},
   "outputs": [
    {
     "data": {
      "text/html": [
       "<div>\n",
       "<style scoped>\n",
       "    .dataframe tbody tr th:only-of-type {\n",
       "        vertical-align: middle;\n",
       "    }\n",
       "\n",
       "    .dataframe tbody tr th {\n",
       "        vertical-align: top;\n",
       "    }\n",
       "\n",
       "    .dataframe thead th {\n",
       "        text-align: right;\n",
       "    }\n",
       "</style>\n",
       "<table border=\"1\" class=\"dataframe\">\n",
       "  <thead>\n",
       "    <tr style=\"text-align: right;\">\n",
       "      <th></th>\n",
       "      <th>Volume</th>\n",
       "      <th>Price</th>\n",
       "      <th>Cost</th>\n",
       "      <th>SO Flag</th>\n",
       "      <th>Start Time_D&amp;T</th>\n",
       "      <th>End Time_D&amp;T</th>\n",
       "      <th>Trade Hours Duration</th>\n",
       "      <th>Start Hour</th>\n",
       "    </tr>\n",
       "  </thead>\n",
       "  <tbody>\n",
       "    <tr>\n",
       "      <th>2787</th>\n",
       "      <td>1,533.0</td>\n",
       "      <td>70.0</td>\n",
       "      <td>1.0731e+05</td>\n",
       "      <td>T</td>\n",
       "      <td>2015-12-31 23:00:00</td>\n",
       "      <td>2016-01-01 06:00:00</td>\n",
       "      <td>7</td>\n",
       "      <td>23</td>\n",
       "    </tr>\n",
       "    <tr>\n",
       "      <th>1471</th>\n",
       "      <td>1,610.0</td>\n",
       "      <td>63.5</td>\n",
       "      <td>1.02235e+05</td>\n",
       "      <td>T</td>\n",
       "      <td>2015-12-31 23:00:00</td>\n",
       "      <td>2016-01-01 06:00:00</td>\n",
       "      <td>7</td>\n",
       "      <td>23</td>\n",
       "    </tr>\n",
       "    <tr>\n",
       "      <th>2064</th>\n",
       "      <td>1,715.0</td>\n",
       "      <td>72.2</td>\n",
       "      <td>1.23823e+05</td>\n",
       "      <td>T</td>\n",
       "      <td>2015-12-31 23:00:00</td>\n",
       "      <td>2016-01-01 06:00:00</td>\n",
       "      <td>7</td>\n",
       "      <td>23</td>\n",
       "    </tr>\n",
       "    <tr>\n",
       "      <th>2080</th>\n",
       "      <td>-2,400.0</td>\n",
       "      <td>13.63</td>\n",
       "      <td>-32,712.0</td>\n",
       "      <td>T</td>\n",
       "      <td>2015-12-31 23:00:00</td>\n",
       "      <td>2016-01-01 09:00:00</td>\n",
       "      <td>10</td>\n",
       "      <td>23</td>\n",
       "    </tr>\n",
       "    <tr>\n",
       "      <th>2079</th>\n",
       "      <td>-1,200.0</td>\n",
       "      <td>13.31</td>\n",
       "      <td>-15,972.0</td>\n",
       "      <td>T</td>\n",
       "      <td>2015-12-31 23:00:00</td>\n",
       "      <td>2016-01-01 09:00:00</td>\n",
       "      <td>10</td>\n",
       "      <td>23</td>\n",
       "    </tr>\n",
       "    <tr>\n",
       "      <th>2788</th>\n",
       "      <td>1,890.0</td>\n",
       "      <td>61.0</td>\n",
       "      <td>1.1529e+05</td>\n",
       "      <td>T</td>\n",
       "      <td>2015-12-31 23:00:00</td>\n",
       "      <td>2016-01-01 06:00:00</td>\n",
       "      <td>7</td>\n",
       "      <td>23</td>\n",
       "    </tr>\n",
       "  </tbody>\n",
       "</table>\n",
       "</div>"
      ],
      "text/plain": [
       "       Volume  Price        Cost SO Flag      Start Time_D&T  \\\n",
       "2787  1,533.0   70.0  1.0731e+05       T 2015-12-31 23:00:00   \n",
       "1471  1,610.0   63.5 1.02235e+05       T 2015-12-31 23:00:00   \n",
       "2064  1,715.0   72.2 1.23823e+05       T 2015-12-31 23:00:00   \n",
       "2080 -2,400.0  13.63   -32,712.0       T 2015-12-31 23:00:00   \n",
       "2079 -1,200.0  13.31   -15,972.0       T 2015-12-31 23:00:00   \n",
       "2788  1,890.0   61.0  1.1529e+05       T 2015-12-31 23:00:00   \n",
       "\n",
       "            End Time_D&T  Trade Hours Duration  Start Hour  \n",
       "2787 2016-01-01 06:00:00                     7          23  \n",
       "1471 2016-01-01 06:00:00                     7          23  \n",
       "2064 2016-01-01 06:00:00                     7          23  \n",
       "2080 2016-01-01 09:00:00                    10          23  \n",
       "2079 2016-01-01 09:00:00                    10          23  \n",
       "2788 2016-01-01 06:00:00                     7          23  "
      ]
     },
     "execution_count": 4,
     "metadata": {},
     "output_type": "execute_result"
    }
   ],
   "source": [
    "df_sys = df2[df2[\"SO Flag\"]==\"T\"]\n",
    "df_sys.head(6)"
   ]
  },
  {
   "cell_type": "code",
   "execution_count": 5,
   "metadata": {},
   "outputs": [
    {
     "data": {
      "text/plain": [
       "(28412, 8)"
      ]
     },
     "execution_count": 5,
     "metadata": {},
     "output_type": "execute_result"
    }
   ],
   "source": [
    "df_enr = df2[df2[\"SO Flag\"]==\"F\"]\n",
    "df_enr.shape"
   ]
  },
  {
   "cell_type": "code",
   "execution_count": null,
   "metadata": {},
   "outputs": [],
   "source": []
  },
  {
   "cell_type": "code",
   "execution_count": 35,
   "metadata": {},
   "outputs": [
    {
     "data": {
      "text/plain": [
       "True"
      ]
     },
     "execution_count": 35,
     "metadata": {},
     "output_type": "execute_result"
    }
   ],
   "source": [
    "\n",
    "#* Checking if splitting the data into Energy Trades & System Trades was successful.\n",
    "bool(len(df2.index) == len(df_enr.index) + len(df_sys.index))"
   ]
  },
  {
   "cell_type": "code",
   "execution_count": 42,
   "metadata": {},
   "outputs": [
    {
     "data": {
      "text/html": [
       "<div>\n",
       "<style scoped>\n",
       "    .dataframe tbody tr th:only-of-type {\n",
       "        vertical-align: middle;\n",
       "    }\n",
       "\n",
       "    .dataframe tbody tr th {\n",
       "        vertical-align: top;\n",
       "    }\n",
       "\n",
       "    .dataframe thead th {\n",
       "        text-align: right;\n",
       "    }\n",
       "</style>\n",
       "<table border=\"1\" class=\"dataframe\">\n",
       "  <thead>\n",
       "    <tr style=\"text-align: right;\">\n",
       "      <th></th>\n",
       "      <th>Volume</th>\n",
       "      <th>Price</th>\n",
       "      <th>Cost</th>\n",
       "      <th>SO Flag</th>\n",
       "      <th>Start Time_D&amp;T</th>\n",
       "      <th>End Time_D&amp;T</th>\n",
       "      <th>Trade Hours Duration</th>\n",
       "      <th>Start Hour</th>\n",
       "    </tr>\n",
       "  </thead>\n",
       "  <tbody>\n",
       "    <tr>\n",
       "      <th>2787</th>\n",
       "      <td>1,533.0</td>\n",
       "      <td>70.0</td>\n",
       "      <td>1.0731e+05</td>\n",
       "      <td>T</td>\n",
       "      <td>2015-12-31 23:00:00</td>\n",
       "      <td>2016-01-01 06:00:00</td>\n",
       "      <td>7</td>\n",
       "      <td>23</td>\n",
       "    </tr>\n",
       "    <tr>\n",
       "      <th>1471</th>\n",
       "      <td>1,610.0</td>\n",
       "      <td>63.5</td>\n",
       "      <td>1.02235e+05</td>\n",
       "      <td>T</td>\n",
       "      <td>2015-12-31 23:00:00</td>\n",
       "      <td>2016-01-01 06:00:00</td>\n",
       "      <td>7</td>\n",
       "      <td>23</td>\n",
       "    </tr>\n",
       "    <tr>\n",
       "      <th>2064</th>\n",
       "      <td>1,715.0</td>\n",
       "      <td>72.2</td>\n",
       "      <td>1.23823e+05</td>\n",
       "      <td>T</td>\n",
       "      <td>2015-12-31 23:00:00</td>\n",
       "      <td>2016-01-01 06:00:00</td>\n",
       "      <td>7</td>\n",
       "      <td>23</td>\n",
       "    </tr>\n",
       "    <tr>\n",
       "      <th>2080</th>\n",
       "      <td>-2,400.0</td>\n",
       "      <td>13.63</td>\n",
       "      <td>-32,712.0</td>\n",
       "      <td>T</td>\n",
       "      <td>2015-12-31 23:00:00</td>\n",
       "      <td>2016-01-01 09:00:00</td>\n",
       "      <td>10</td>\n",
       "      <td>23</td>\n",
       "    </tr>\n",
       "  </tbody>\n",
       "</table>\n",
       "</div>"
      ],
      "text/plain": [
       "       Volume  Price        Cost SO Flag      Start Time_D&T  \\\n",
       "2787  1,533.0   70.0  1.0731e+05       T 2015-12-31 23:00:00   \n",
       "1471  1,610.0   63.5 1.02235e+05       T 2015-12-31 23:00:00   \n",
       "2064  1,715.0   72.2 1.23823e+05       T 2015-12-31 23:00:00   \n",
       "2080 -2,400.0  13.63   -32,712.0       T 2015-12-31 23:00:00   \n",
       "\n",
       "            End Time_D&T  Trade Hours Duration  Start Hour  \n",
       "2787 2016-01-01 06:00:00                     7          23  \n",
       "1471 2016-01-01 06:00:00                     7          23  \n",
       "2064 2016-01-01 06:00:00                     7          23  \n",
       "2080 2016-01-01 09:00:00                    10          23  "
      ]
     },
     "execution_count": 42,
     "metadata": {},
     "output_type": "execute_result"
    }
   ],
   "source": [
    "df2.head(4)"
   ]
  },
  {
   "cell_type": "code",
   "execution_count": 6,
   "metadata": {},
   "outputs": [
    {
     "data": {
      "text/plain": [
       "['./data/GTMA Trades_df_sys']"
      ]
     },
     "execution_count": 6,
     "metadata": {},
     "output_type": "execute_result"
    }
   ],
   "source": [
    "joblib.dump(df_enr,\"./data/GTMA Trades_df_enr\")\n",
    "joblib.dump(df_sys,\"./data/GTMA Trades_df_sys\")"
   ]
  },
  {
   "cell_type": "markdown",
   "metadata": {},
   "source": [
    "-----------------------------------------------------------------------------------\n"
   ]
  }
 ],
 "metadata": {
  "kernelspec": {
   "display_name": "Python 3.9.9 ('s1_v3')",
   "language": "python",
   "name": "python3"
  },
  "language_info": {
   "codemirror_mode": {
    "name": "ipython",
    "version": 3
   },
   "file_extension": ".py",
   "mimetype": "text/x-python",
   "name": "python",
   "nbconvert_exporter": "python",
   "pygments_lexer": "ipython3",
   "version": "3.9.9"
  },
  "orig_nbformat": 4,
  "vscode": {
   "interpreter": {
    "hash": "0c72f5f12377981eb7d8d6cac7e44b7ac7801a1b150ae982efb5dd52b75423d8"
   }
  }
 },
 "nbformat": 4,
 "nbformat_minor": 2
}
